{
 "cells": [
  {
   "cell_type": "code",
   "execution_count": 1,
   "metadata": {},
   "outputs": [],
   "source": [
    "import soundfile as sf\n",
    "import sounddevice as sd\n",
    "\n",
    "def sync_record(filename, duration, sr, channels):\n",
    "    print('recording')\n",
    "    my_rec = sd.rec(samplerate=sr, channels=channels, frames=int(duration*sr))\n",
    "    sd.wait()\n",
    "    sf.write(filename, data=my_rec, samplerate=sr)\n",
    "    print('done recording')"
   ]
  },
  {
   "cell_type": "code",
   "execution_count": 2,
   "metadata": {},
   "outputs": [
    {
     "data": {
      "text/plain": [
       "   0 Microsoft Sound Mapper - Input, MME (2 in, 0 out)\n",
       ">  1 Microphone (Realtek High Defini, MME (2 in, 0 out)\n",
       "   2 Microsoft Sound Mapper - Output, MME (0 in, 2 out)\n",
       "<  3 Speakers (Realtek High Definiti, MME (0 in, 2 out)\n",
       "   4 Primary Sound Capture Driver, Windows DirectSound (2 in, 0 out)\n",
       "   5 Microphone (Realtek High Definition Audio), Windows DirectSound (2 in, 0 out)\n",
       "   6 Primary Sound Driver, Windows DirectSound (0 in, 2 out)\n",
       "   7 Speakers (Realtek High Definition Audio), Windows DirectSound (0 in, 2 out)\n",
       "   8 Speakers (Realtek High Definition Audio), Windows WASAPI (0 in, 2 out)\n",
       "   9 Microphone (Realtek High Definition Audio), Windows WASAPI (2 in, 0 out)\n",
       "  10 Speakers (Realtek HD Audio output), Windows WDM-KS (0 in, 2 out)\n",
       "  11 Microphone (Realtek HD Audio Mic input), Windows WDM-KS (2 in, 0 out)\n",
       "  12 Stereo Mix (Realtek HD Audio Stereo input), Windows WDM-KS (2 in, 0 out)"
      ]
     },
     "execution_count": 2,
     "metadata": {},
     "output_type": "execute_result"
    }
   ],
   "source": [
    "misc = sd.query_devices()\n",
    "misc"
   ]
  },
  {
   "cell_type": "code",
   "execution_count": 3,
   "metadata": {},
   "outputs": [],
   "source": [
    "sd.default.device = 1"
   ]
  },
  {
   "cell_type": "code",
   "execution_count": 4,
   "metadata": {},
   "outputs": [
    {
     "name": "stdout",
     "output_type": "stream",
     "text": [
      "recording\n",
      "done recording\n"
     ]
    }
   ],
   "source": [
    "sync_record('./vnexpress/tamsu/01.wav', 13, 44100, 1)"
   ]
  },
  {
   "cell_type": "code",
   "execution_count": 5,
   "metadata": {},
   "outputs": [
    {
     "name": "stdout",
     "output_type": "stream",
     "text": [
      "recording\n",
      "done recording\n"
     ]
    }
   ],
   "source": [
    "sync_record('./vnexpress/tamsu/02.wav', 13, 44100, 1)"
   ]
  },
  {
   "cell_type": "code",
   "execution_count": 8,
   "metadata": {
    "scrolled": true
   },
   "outputs": [
    {
     "name": "stdout",
     "output_type": "stream",
     "text": [
      "recording\n",
      "done recording\n"
     ]
    }
   ],
   "source": [
    "sync_record('./vnexpress/tamsu/03.wav', 13, 44100, 1)"
   ]
  },
  {
   "cell_type": "code",
   "execution_count": 9,
   "metadata": {},
   "outputs": [
    {
     "name": "stdout",
     "output_type": "stream",
     "text": [
      "recording\n",
      "done recording\n"
     ]
    }
   ],
   "source": [
    "sync_record('./vnexpress/tamsu/04.wav', 13, 44100, 1)"
   ]
  },
  {
   "cell_type": "code",
   "execution_count": 10,
   "metadata": {},
   "outputs": [
    {
     "name": "stdout",
     "output_type": "stream",
     "text": [
      "recording\n",
      "done recording\n"
     ]
    }
   ],
   "source": [
    "sync_record('./vnexpress/tamsu/05.wav', 13, 44100, 1)"
   ]
  },
  {
   "cell_type": "code",
   "execution_count": 11,
   "metadata": {},
   "outputs": [
    {
     "name": "stdout",
     "output_type": "stream",
     "text": [
      "recording\n",
      "done recording\n"
     ]
    }
   ],
   "source": [
    "sync_record('./vnexpress/tamsu/06.wav', 13, 44100, 1)"
   ]
  },
  {
   "cell_type": "code",
   "execution_count": 12,
   "metadata": {},
   "outputs": [
    {
     "name": "stdout",
     "output_type": "stream",
     "text": [
      "recording\n",
      "done recording\n"
     ]
    }
   ],
   "source": [
    "sync_record('./vnexpress/tamsu/07.wav', 13, 44100, 1)"
   ]
  },
  {
   "cell_type": "code",
   "execution_count": 13,
   "metadata": {},
   "outputs": [
    {
     "name": "stdout",
     "output_type": "stream",
     "text": [
      "recording\n",
      "done recording\n"
     ]
    }
   ],
   "source": [
    "sync_record('./vnexpress/tamsu/08.wav', 13, 44100, 1)"
   ]
  },
  {
   "cell_type": "code",
   "execution_count": 14,
   "metadata": {},
   "outputs": [
    {
     "name": "stdout",
     "output_type": "stream",
     "text": [
      "recording\n",
      "done recording\n"
     ]
    }
   ],
   "source": [
    "sync_record('./vnexpress/tamsu/09.wav', 13, 44100, 1)"
   ]
  },
  {
   "cell_type": "code",
   "execution_count": 15,
   "metadata": {},
   "outputs": [
    {
     "name": "stdout",
     "output_type": "stream",
     "text": [
      "recording\n",
      "done recording\n"
     ]
    }
   ],
   "source": [
    "sync_record('./vnexpress/tamsu/10.wav', 13, 44100, 1)"
   ]
  }
 ],
 "metadata": {
  "kernelspec": {
   "display_name": "Python 3",
   "language": "python",
   "name": "python3"
  },
  "language_info": {
   "codemirror_mode": {
    "name": "ipython",
    "version": 3
   },
   "file_extension": ".py",
   "mimetype": "text/x-python",
   "name": "python",
   "nbconvert_exporter": "python",
   "pygments_lexer": "ipython3",
   "version": "3.7.6"
  }
 },
 "nbformat": 4,
 "nbformat_minor": 4
}
